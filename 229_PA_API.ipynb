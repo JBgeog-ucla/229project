{
 "cells": [
  {
   "cell_type": "markdown",
   "id": "racial-freeze",
   "metadata": {},
   "source": [
    "# Purple Air API Request\n",
    "Bringing in JSON file for multiple sensors within a bounding box"
   ]
  },
  {
   "cell_type": "code",
   "execution_count": 1,
   "id": "external-stand",
   "metadata": {},
   "outputs": [],
   "source": [
    "#from Adam\n",
    "#It looks like the API only gives you current data. Is there a reason not to use the downloadable csvs?\n",
    "\n",
    "#For the API key, try passing it in the headers. \n",
    "#For example, you would call: r=requests.get(url, headers={\"X-API-Key\":\"yourapikey\"})"
   ]
  },
  {
   "cell_type": "code",
   "execution_count": 2,
   "id": "legislative-double",
   "metadata": {},
   "outputs": [],
   "source": [
    "#bounding box results\n",
    "# from https://boundingbox.klokantech.com\n",
    "\n",
    "# -118.707,33.688,-118.0849,34.3494\n",
    "# [-118.7069983134,33.688042953] = SW of bounding box, in ocean west of Long Beach\n",
    "#[-118.0848974833,33.688042953] = SE of bounding box, also slightly offshore near HB\n",
    "# [-118.0848974833,34.3493644762] = NE of bounding box, N of La Canada/Flintridge\n",
    "# [-118.7069983134,34.3493644762] = NW of bounding box, N of Simi Valley\n",
    "\n",
    "# -118.707 = -118° 42' 25.1994\"\n",
    "# 33.688 = 33° 41' 16.8\"\n",
    "# -118.0849 = -118° 5' 5.64\"\n",
    "# 34.3494 = 34° 20' 57.84\"\n",
    "\n",
    "# for some reason this code repeats first lat/long again at the end...?\n",
    "#[[[-118.7069983134,33.688042953],[-118.0848974833,33.688042953],[-118.0848974833,34.3493644762],[-118.7069983134,34.3493644762],[-118.7069983134,33.688042953]]]\n",
    "# $$dW1184200$$eW1180500$$fN0342000$$gN0334100\n",
    "# $$c(W 118°42'00\"--W 118°05'00\"/N 34°20'00\"--N 33°41'00\")"
   ]
  },
  {
   "cell_type": "code",
   "execution_count": 3,
   "id": "polyphonic-polish",
   "metadata": {},
   "outputs": [
    {
     "ename": "SyntaxError",
     "evalue": "invalid syntax (<ipython-input-3-632e6b8baeef>, line 4)",
     "output_type": "error",
     "traceback": [
      "\u001b[1;36m  File \u001b[1;32m\"<ipython-input-3-632e6b8baeef>\"\u001b[1;36m, line \u001b[1;32m4\u001b[0m\n\u001b[1;33m    GET https://api.purpleair.com/v1/sensors?fields=icon%2C%20name%2C%20location_type%2C%20latitude%2C%20longitude%2C%20altitude%2C%20%20confidence%2C%20%20pm2.5%2C%20pm2.5_24hour%2C%20channel_state%2C%20channel_flags&location_type=1 HTTP/1.1\u001b[0m\n\u001b[1;37m        ^\u001b[0m\n\u001b[1;31mSyntaxError\u001b[0m\u001b[1;31m:\u001b[0m invalid syntax\n"
     ]
    }
   ],
   "source": [
    "# used these parameters\n",
    "# icon, name, location_type, latitude, longitude, altitude,  confidence,  pm2.5, pm2.5_24hour, channel_state, channel_flags\n",
    "# location type = 1\n",
    "GET https://api.purpleair.com/v1/sensors?fields=icon%2C%20name%2C%20location_type%2C%20latitude%2C%20longitude%2C%20altitude%2C%20%20confidence%2C%20%20pm2.5%2C%20pm2.5_24hour%2C%20channel_state%2C%20channel_flags&location_type=1 HTTP/1.1\n",
    "X-API-Key: 5FBDA24E-A78B-11EB-912F-42010A800259\n"
   ]
  },
  {
   "cell_type": "code",
   "execution_count": 4,
   "id": "creative-making",
   "metadata": {},
   "outputs": [],
   "source": [
    "import requests\n",
    "r = requests.get('https://api.purpleair.com/v1/sensors?api_key=5FBDA24E-A78B-11EB-912F-42010A800259?fields=icon%2C%20name%2C%20location_type%2C%20latitude%2C%20longitude%2C%20altitude%2C%20%20confidence%2C%20%20pm2.5%2C%20pm2.5_24hour%2C%20channel_state%2C%20channel_flags&location_type=1')"
   ]
  },
  {
   "cell_type": "code",
   "execution_count": 5,
   "id": "personal-marking",
   "metadata": {},
   "outputs": [
    {
     "name": "stdout",
     "output_type": "stream",
     "text": [
      "{\n",
      "  \"api_version\" : \"V1.0.6-0.0.9\",\n",
      "  \"time_stamp\" : 1622733211,\n",
      "  \"error\" : \"ApiKeyInvalidError\",\n",
      "  \"description\" : \"The provided api_key was not valid.\"\n",
      "}\n"
     ]
    }
   ],
   "source": [
    "print(r.text)"
   ]
  },
  {
   "cell_type": "code",
   "execution_count": 6,
   "id": "specific-shepherd",
   "metadata": {},
   "outputs": [],
   "source": [
    "import requests\n",
    "r = requests.get( 'https://api.purpleair.com/v1/sensors??fields=icon%2C%20name%2C%20location_type%2C%20latitude%2C%20longitude%2C%20altitude%2C%20%20confidence%2C%20%20pm2.5%2C%20pm2.5_24hour%2C%20channel_state%2C%20channel_flags&nwlng=-118.7069983134&nwlat=34.3493644762&selng=-118.0848974833&selat=33.688042953 HTTP/1.1X-API-Key: 5FBDA24E-A78B-11EB-912F-42010A800259')"
   ]
  },
  {
   "cell_type": "code",
   "execution_count": 7,
   "id": "republican-label",
   "metadata": {},
   "outputs": [
    {
     "name": "stdout",
     "output_type": "stream",
     "text": [
      "{\n",
      "  \"api_version\" : \"V1.0.6-0.0.9\",\n",
      "  \"time_stamp\" : 1622733213,\n",
      "  \"error\" : \"ApiKeyMissingError\",\n",
      "  \"description\" : \"No API key was found in the request.\"\n",
      "}\n"
     ]
    }
   ],
   "source": [
    "print(r.text)"
   ]
  },
  {
   "cell_type": "code",
   "execution_count": 8,
   "id": "compatible-month",
   "metadata": {},
   "outputs": [
    {
     "ename": "InvalidSchema",
     "evalue": "No connection adapters were found for 'X-API-Key: 5FBDA24E-A78B-11EB-912F-42010A800259'",
     "output_type": "error",
     "traceback": [
      "\u001b[1;31m---------------------------------------------------------------------------\u001b[0m",
      "\u001b[1;31mInvalidSchema\u001b[0m                             Traceback (most recent call last)",
      "\u001b[1;32m<ipython-input-8-89d5c314657b>\u001b[0m in \u001b[0;36m<module>\u001b[1;34m\u001b[0m\n\u001b[1;32m----> 1\u001b[1;33m \u001b[0mr\u001b[0m \u001b[1;33m=\u001b[0m \u001b[0mrequests\u001b[0m\u001b[1;33m.\u001b[0m\u001b[0mget\u001b[0m\u001b[1;33m(\u001b[0m\u001b[1;34m\"X-API-Key: 5FBDA24E-A78B-11EB-912F-42010A800259\"\u001b[0m\u001b[1;33m)\u001b[0m\u001b[1;33m\u001b[0m\u001b[1;33m\u001b[0m\u001b[0m\n\u001b[0m",
      "\u001b[1;32m~\\anaconda3\\envs\\UP229\\lib\\site-packages\\requests\\api.py\u001b[0m in \u001b[0;36mget\u001b[1;34m(url, params, **kwargs)\u001b[0m\n\u001b[0;32m     74\u001b[0m \u001b[1;33m\u001b[0m\u001b[0m\n\u001b[0;32m     75\u001b[0m     \u001b[0mkwargs\u001b[0m\u001b[1;33m.\u001b[0m\u001b[0msetdefault\u001b[0m\u001b[1;33m(\u001b[0m\u001b[1;34m'allow_redirects'\u001b[0m\u001b[1;33m,\u001b[0m \u001b[1;32mTrue\u001b[0m\u001b[1;33m)\u001b[0m\u001b[1;33m\u001b[0m\u001b[1;33m\u001b[0m\u001b[0m\n\u001b[1;32m---> 76\u001b[1;33m     \u001b[1;32mreturn\u001b[0m \u001b[0mrequest\u001b[0m\u001b[1;33m(\u001b[0m\u001b[1;34m'get'\u001b[0m\u001b[1;33m,\u001b[0m \u001b[0murl\u001b[0m\u001b[1;33m,\u001b[0m \u001b[0mparams\u001b[0m\u001b[1;33m=\u001b[0m\u001b[0mparams\u001b[0m\u001b[1;33m,\u001b[0m \u001b[1;33m**\u001b[0m\u001b[0mkwargs\u001b[0m\u001b[1;33m)\u001b[0m\u001b[1;33m\u001b[0m\u001b[1;33m\u001b[0m\u001b[0m\n\u001b[0m\u001b[0;32m     77\u001b[0m \u001b[1;33m\u001b[0m\u001b[0m\n\u001b[0;32m     78\u001b[0m \u001b[1;33m\u001b[0m\u001b[0m\n",
      "\u001b[1;32m~\\anaconda3\\envs\\UP229\\lib\\site-packages\\requests\\api.py\u001b[0m in \u001b[0;36mrequest\u001b[1;34m(method, url, **kwargs)\u001b[0m\n\u001b[0;32m     59\u001b[0m     \u001b[1;31m# cases, and look like a memory leak in others.\u001b[0m\u001b[1;33m\u001b[0m\u001b[1;33m\u001b[0m\u001b[1;33m\u001b[0m\u001b[0m\n\u001b[0;32m     60\u001b[0m     \u001b[1;32mwith\u001b[0m \u001b[0msessions\u001b[0m\u001b[1;33m.\u001b[0m\u001b[0mSession\u001b[0m\u001b[1;33m(\u001b[0m\u001b[1;33m)\u001b[0m \u001b[1;32mas\u001b[0m \u001b[0msession\u001b[0m\u001b[1;33m:\u001b[0m\u001b[1;33m\u001b[0m\u001b[1;33m\u001b[0m\u001b[0m\n\u001b[1;32m---> 61\u001b[1;33m         \u001b[1;32mreturn\u001b[0m \u001b[0msession\u001b[0m\u001b[1;33m.\u001b[0m\u001b[0mrequest\u001b[0m\u001b[1;33m(\u001b[0m\u001b[0mmethod\u001b[0m\u001b[1;33m=\u001b[0m\u001b[0mmethod\u001b[0m\u001b[1;33m,\u001b[0m \u001b[0murl\u001b[0m\u001b[1;33m=\u001b[0m\u001b[0murl\u001b[0m\u001b[1;33m,\u001b[0m \u001b[1;33m**\u001b[0m\u001b[0mkwargs\u001b[0m\u001b[1;33m)\u001b[0m\u001b[1;33m\u001b[0m\u001b[1;33m\u001b[0m\u001b[0m\n\u001b[0m\u001b[0;32m     62\u001b[0m \u001b[1;33m\u001b[0m\u001b[0m\n\u001b[0;32m     63\u001b[0m \u001b[1;33m\u001b[0m\u001b[0m\n",
      "\u001b[1;32m~\\anaconda3\\envs\\UP229\\lib\\site-packages\\requests\\sessions.py\u001b[0m in \u001b[0;36mrequest\u001b[1;34m(self, method, url, params, data, headers, cookies, files, auth, timeout, allow_redirects, proxies, hooks, stream, verify, cert, json)\u001b[0m\n\u001b[0;32m    540\u001b[0m         }\n\u001b[0;32m    541\u001b[0m         \u001b[0msend_kwargs\u001b[0m\u001b[1;33m.\u001b[0m\u001b[0mupdate\u001b[0m\u001b[1;33m(\u001b[0m\u001b[0msettings\u001b[0m\u001b[1;33m)\u001b[0m\u001b[1;33m\u001b[0m\u001b[1;33m\u001b[0m\u001b[0m\n\u001b[1;32m--> 542\u001b[1;33m         \u001b[0mresp\u001b[0m \u001b[1;33m=\u001b[0m \u001b[0mself\u001b[0m\u001b[1;33m.\u001b[0m\u001b[0msend\u001b[0m\u001b[1;33m(\u001b[0m\u001b[0mprep\u001b[0m\u001b[1;33m,\u001b[0m \u001b[1;33m**\u001b[0m\u001b[0msend_kwargs\u001b[0m\u001b[1;33m)\u001b[0m\u001b[1;33m\u001b[0m\u001b[1;33m\u001b[0m\u001b[0m\n\u001b[0m\u001b[0;32m    543\u001b[0m \u001b[1;33m\u001b[0m\u001b[0m\n\u001b[0;32m    544\u001b[0m         \u001b[1;32mreturn\u001b[0m \u001b[0mresp\u001b[0m\u001b[1;33m\u001b[0m\u001b[1;33m\u001b[0m\u001b[0m\n",
      "\u001b[1;32m~\\anaconda3\\envs\\UP229\\lib\\site-packages\\requests\\sessions.py\u001b[0m in \u001b[0;36msend\u001b[1;34m(self, request, **kwargs)\u001b[0m\n\u001b[0;32m    647\u001b[0m \u001b[1;33m\u001b[0m\u001b[0m\n\u001b[0;32m    648\u001b[0m         \u001b[1;31m# Get the appropriate adapter to use\u001b[0m\u001b[1;33m\u001b[0m\u001b[1;33m\u001b[0m\u001b[1;33m\u001b[0m\u001b[0m\n\u001b[1;32m--> 649\u001b[1;33m         \u001b[0madapter\u001b[0m \u001b[1;33m=\u001b[0m \u001b[0mself\u001b[0m\u001b[1;33m.\u001b[0m\u001b[0mget_adapter\u001b[0m\u001b[1;33m(\u001b[0m\u001b[0murl\u001b[0m\u001b[1;33m=\u001b[0m\u001b[0mrequest\u001b[0m\u001b[1;33m.\u001b[0m\u001b[0murl\u001b[0m\u001b[1;33m)\u001b[0m\u001b[1;33m\u001b[0m\u001b[1;33m\u001b[0m\u001b[0m\n\u001b[0m\u001b[0;32m    650\u001b[0m \u001b[1;33m\u001b[0m\u001b[0m\n\u001b[0;32m    651\u001b[0m         \u001b[1;31m# Start time (approximately) of the request\u001b[0m\u001b[1;33m\u001b[0m\u001b[1;33m\u001b[0m\u001b[1;33m\u001b[0m\u001b[0m\n",
      "\u001b[1;32m~\\anaconda3\\envs\\UP229\\lib\\site-packages\\requests\\sessions.py\u001b[0m in \u001b[0;36mget_adapter\u001b[1;34m(self, url)\u001b[0m\n\u001b[0;32m    740\u001b[0m \u001b[1;33m\u001b[0m\u001b[0m\n\u001b[0;32m    741\u001b[0m         \u001b[1;31m# Nothing matches :-/\u001b[0m\u001b[1;33m\u001b[0m\u001b[1;33m\u001b[0m\u001b[1;33m\u001b[0m\u001b[0m\n\u001b[1;32m--> 742\u001b[1;33m         \u001b[1;32mraise\u001b[0m \u001b[0mInvalidSchema\u001b[0m\u001b[1;33m(\u001b[0m\u001b[1;34m\"No connection adapters were found for {!r}\"\u001b[0m\u001b[1;33m.\u001b[0m\u001b[0mformat\u001b[0m\u001b[1;33m(\u001b[0m\u001b[0murl\u001b[0m\u001b[1;33m)\u001b[0m\u001b[1;33m)\u001b[0m\u001b[1;33m\u001b[0m\u001b[1;33m\u001b[0m\u001b[0m\n\u001b[0m\u001b[0;32m    743\u001b[0m \u001b[1;33m\u001b[0m\u001b[0m\n\u001b[0;32m    744\u001b[0m     \u001b[1;32mdef\u001b[0m \u001b[0mclose\u001b[0m\u001b[1;33m(\u001b[0m\u001b[0mself\u001b[0m\u001b[1;33m)\u001b[0m\u001b[1;33m:\u001b[0m\u001b[1;33m\u001b[0m\u001b[1;33m\u001b[0m\u001b[0m\n",
      "\u001b[1;31mInvalidSchema\u001b[0m: No connection adapters were found for 'X-API-Key: 5FBDA24E-A78B-11EB-912F-42010A800259'"
     ]
    }
   ],
   "source": [
    "r = requests.get(\"X-API-Key: 5FBDA24E-A78B-11EB-912F-42010A800259\")"
   ]
  },
  {
   "cell_type": "code",
   "execution_count": null,
   "id": "embedded-saying",
   "metadata": {},
   "outputs": [],
   "source": []
  }
 ],
 "metadata": {
  "kernelspec": {
   "display_name": "Python 3",
   "language": "python",
   "name": "python3"
  },
  "language_info": {
   "codemirror_mode": {
    "name": "ipython",
    "version": 3
   },
   "file_extension": ".py",
   "mimetype": "text/x-python",
   "name": "python",
   "nbconvert_exporter": "python",
   "pygments_lexer": "ipython3",
   "version": "3.8.10"
  }
 },
 "nbformat": 4,
 "nbformat_minor": 5
}
