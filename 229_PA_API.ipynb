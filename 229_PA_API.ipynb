{
 "cells": [
  {
   "cell_type": "markdown",
   "id": "racial-freeze",
   "metadata": {},
   "source": [
    "# Purple Air API Request\n",
    "Bringing in JSON file for multiple sensors within a bounding box"
   ]
  },
  {
   "cell_type": "code",
   "execution_count": null,
   "id": "legislative-double",
   "metadata": {},
   "outputs": [],
   "source": [
    "#bounding box results\n",
    "# from https://boundingbox.klokantech.com\n",
    "\n",
    "# -118.707,33.688,-118.0849,34.3494\n",
    "# [-118.7069983134,33.688042953] = SW of bounding box, in ocean west of Long Beach\n",
    "#[-118.0848974833,33.688042953] = SE of bounding box, also slightly offshore near HB\n",
    "# [-118.0848974833,34.3493644762] = NE of bounding box, N of La Canada/Flintridge\n",
    "# [-118.7069983134,34.3493644762] = NW of bounding box, N of Simi Valley\n",
    "\n",
    "# -118.707 = -118° 42' 25.1994\"\n",
    "# 33.688 = 33° 41' 16.8\"\n",
    "# -118.0849 = -118° 5' 5.64\"\n",
    "# 34.3494 = 34° 20' 57.84\"\n",
    "\n",
    "# for some reason this code repeats first lat/long again at the end...?\n",
    "#[[[-118.7069983134,33.688042953],[-118.0848974833,33.688042953],[-118.0848974833,34.3493644762],[-118.7069983134,34.3493644762],[-118.7069983134,33.688042953]]]\n",
    "# $$dW1184200$$eW1180500$$fN0342000$$gN0334100\n",
    "# $$c(W 118°42'00\"--W 118°05'00\"/N 34°20'00\"--N 33°41'00\")"
   ]
  },
  {
   "cell_type": "code",
   "execution_count": null,
   "id": "polyphonic-polish",
   "metadata": {},
   "outputs": [],
   "source": [
    "# used these parameters\n",
    "# icon, name, location_type, latitude, longitude, altitude,  confidence,  pm2.5, pm2.5_24hour, channel_state, channel_flags\n",
    "# location type = 1\n",
    "GET https://api.purpleair.com/v1/sensors?fields=icon%2C%20name%2C%20location_type%2C%20latitude%2C%20longitude%2C%20altitude%2C%20%20confidence%2C%20%20pm2.5%2C%20pm2.5_24hour%2C%20channel_state%2C%20channel_flags&location_type=1 HTTP/1.1\n",
    "X-API-Key: 5FBDA24E-A78B-11EB-912F-42010A800259\n"
   ]
  },
  {
   "cell_type": "code",
   "execution_count": 3,
   "id": "creative-making",
   "metadata": {},
   "outputs": [],
   "source": [
    "import requests\n",
    "r = requests.get('https://api.purpleair.com/v1/sensors?api_key=5FBDA24E-A78B-11EB-912F-42010A800259?fields=icon%2C%20name%2C%20location_type%2C%20latitude%2C%20longitude%2C%20altitude%2C%20%20confidence%2C%20%20pm2.5%2C%20pm2.5_24hour%2C%20channel_state%2C%20channel_flags&location_type=1')"
   ]
  },
  {
   "cell_type": "code",
   "execution_count": 4,
   "id": "personal-marking",
   "metadata": {},
   "outputs": [
    {
     "name": "stdout",
     "output_type": "stream",
     "text": [
      "{\n",
      "  \"api_version\" : \"V1.0.6-0.0.9\",\n",
      "  \"time_stamp\" : 1619561461,\n",
      "  \"error\" : \"ApiKeyInvalidError\",\n",
      "  \"description\" : \"The provided api_key was not valid.\"\n",
      "}\n"
     ]
    }
   ],
   "source": [
    "print(r.text)"
   ]
  },
  {
   "cell_type": "code",
   "execution_count": null,
   "id": "specific-shepherd",
   "metadata": {},
   "outputs": [],
   "source": []
  }
 ],
 "metadata": {
  "kernelspec": {
   "display_name": "Python 3",
   "language": "python",
   "name": "python3"
  },
  "language_info": {
   "codemirror_mode": {
    "name": "ipython",
    "version": 3
   },
   "file_extension": ".py",
   "mimetype": "text/x-python",
   "name": "python",
   "nbconvert_exporter": "python",
   "pygments_lexer": "ipython3",
   "version": "3.8.8"
  }
 },
 "nbformat": 4,
 "nbformat_minor": 5
}
