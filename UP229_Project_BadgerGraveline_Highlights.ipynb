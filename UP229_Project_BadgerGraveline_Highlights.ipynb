{
 "cells": [
  {
   "cell_type": "markdown",
   "id": "9293693f",
   "metadata": {},
   "source": [
    "# UP 229 Final Project Highlights\n",
    "# Jennifer Badger and Bryan Graveline\n",
    "\n",
    "For our final project, we assessed the effect of historic redlining patterns on current-day PM 2.5 levels in Los Angeles. \n",
    "To do so, we used neighborhood HOLC grades from [Mapping Inequality](https://dsl.richmond.edu/panorama/redlining/#loc=5/39.1/-94.58)\n",
    "and air quality data from [PurpleAir](https://www2.purpleair.com/). This notebook contains the code needed to generate our \"highlight\" boxplot. A comprehensive description of the analysis we performed can be found in the UP229_Project_BadgerGraveline notebook."
   ]
  },
  {
   "cell_type": "code",
   "execution_count": 1,
   "id": "e2e91710",
   "metadata": {},
   "outputs": [],
   "source": [
    "import os\n",
    "import glob\n",
    "import pandas as pd\n",
    "import geopandas as gpd\n",
    "import contextily as ctx\n",
    "import matplotlib.pyplot as plt\n",
    "import numpy as np\n",
    "import matplotlib.tri as tri\n",
    "from scipy.interpolate import griddata\n",
    "import geopandas as gpd"
   ]
  },
  {
   "cell_type": "code",
   "execution_count": 2,
   "id": "c5ce3a5a",
   "metadata": {},
   "outputs": [
    {
     "ename": "ValueError",
     "evalue": "No objects to concatenate",
     "output_type": "error",
     "traceback": [
      "\u001b[1;31m---------------------------------------------------------------------------\u001b[0m",
      "\u001b[1;31mValueError\u001b[0m                                Traceback (most recent call last)",
      "\u001b[1;32m<ipython-input-2-1c3ad8603cf2>\u001b[0m in \u001b[0;36m<module>\u001b[1;34m\u001b[0m\n\u001b[0;32m     77\u001b[0m     \u001b[1;31m#newdf = newdf.to_frame()\u001b[0m\u001b[1;33m\u001b[0m\u001b[1;33m\u001b[0m\u001b[1;33m\u001b[0m\u001b[0m\n\u001b[0;32m     78\u001b[0m \u001b[1;33m\u001b[0m\u001b[0m\n\u001b[1;32m---> 79\u001b[1;33m \u001b[0mfinal_frame\u001b[0m \u001b[1;33m=\u001b[0m \u001b[0mpd\u001b[0m\u001b[1;33m.\u001b[0m\u001b[0mconcat\u001b[0m\u001b[1;33m(\u001b[0m\u001b[0mli\u001b[0m\u001b[1;33m,\u001b[0m \u001b[0maxis\u001b[0m\u001b[1;33m=\u001b[0m\u001b[1;36m0\u001b[0m\u001b[1;33m,\u001b[0m \u001b[0mignore_index\u001b[0m\u001b[1;33m=\u001b[0m\u001b[1;32mTrue\u001b[0m\u001b[1;33m)\u001b[0m\u001b[1;33m\u001b[0m\u001b[1;33m\u001b[0m\u001b[0m\n\u001b[0m\u001b[0;32m     80\u001b[0m \u001b[0mfinal_frame\u001b[0m\u001b[1;33m.\u001b[0m\u001b[0mhead\u001b[0m\u001b[1;33m(\u001b[0m\u001b[1;33m-\u001b[0m\u001b[1;36m10\u001b[0m\u001b[1;33m)\u001b[0m\u001b[1;33m\u001b[0m\u001b[1;33m\u001b[0m\u001b[0m\n\u001b[0;32m     81\u001b[0m \u001b[1;33m\u001b[0m\u001b[0m\n",
      "\u001b[1;32m~\\anaconda3\\envs\\UP229\\lib\\site-packages\\pandas\\core\\reshape\\concat.py\u001b[0m in \u001b[0;36mconcat\u001b[1;34m(objs, axis, join, ignore_index, keys, levels, names, verify_integrity, sort, copy)\u001b[0m\n\u001b[0;32m    283\u001b[0m     \u001b[0mValueError\u001b[0m\u001b[1;33m:\u001b[0m \u001b[0mIndexes\u001b[0m \u001b[0mhave\u001b[0m \u001b[0moverlapping\u001b[0m \u001b[0mvalues\u001b[0m\u001b[1;33m:\u001b[0m \u001b[1;33m[\u001b[0m\u001b[1;34m'a'\u001b[0m\u001b[1;33m]\u001b[0m\u001b[1;33m\u001b[0m\u001b[1;33m\u001b[0m\u001b[0m\n\u001b[0;32m    284\u001b[0m     \"\"\"\n\u001b[1;32m--> 285\u001b[1;33m     op = _Concatenator(\n\u001b[0m\u001b[0;32m    286\u001b[0m         \u001b[0mobjs\u001b[0m\u001b[1;33m,\u001b[0m\u001b[1;33m\u001b[0m\u001b[1;33m\u001b[0m\u001b[0m\n\u001b[0;32m    287\u001b[0m         \u001b[0maxis\u001b[0m\u001b[1;33m=\u001b[0m\u001b[0maxis\u001b[0m\u001b[1;33m,\u001b[0m\u001b[1;33m\u001b[0m\u001b[1;33m\u001b[0m\u001b[0m\n",
      "\u001b[1;32m~\\anaconda3\\envs\\UP229\\lib\\site-packages\\pandas\\core\\reshape\\concat.py\u001b[0m in \u001b[0;36m__init__\u001b[1;34m(self, objs, axis, join, keys, levels, names, ignore_index, verify_integrity, copy, sort)\u001b[0m\n\u001b[0;32m    340\u001b[0m \u001b[1;33m\u001b[0m\u001b[0m\n\u001b[0;32m    341\u001b[0m         \u001b[1;32mif\u001b[0m \u001b[0mlen\u001b[0m\u001b[1;33m(\u001b[0m\u001b[0mobjs\u001b[0m\u001b[1;33m)\u001b[0m \u001b[1;33m==\u001b[0m \u001b[1;36m0\u001b[0m\u001b[1;33m:\u001b[0m\u001b[1;33m\u001b[0m\u001b[1;33m\u001b[0m\u001b[0m\n\u001b[1;32m--> 342\u001b[1;33m             \u001b[1;32mraise\u001b[0m \u001b[0mValueError\u001b[0m\u001b[1;33m(\u001b[0m\u001b[1;34m\"No objects to concatenate\"\u001b[0m\u001b[1;33m)\u001b[0m\u001b[1;33m\u001b[0m\u001b[1;33m\u001b[0m\u001b[0m\n\u001b[0m\u001b[0;32m    343\u001b[0m \u001b[1;33m\u001b[0m\u001b[0m\n\u001b[0;32m    344\u001b[0m         \u001b[1;32mif\u001b[0m \u001b[0mkeys\u001b[0m \u001b[1;32mis\u001b[0m \u001b[1;32mNone\u001b[0m\u001b[1;33m:\u001b[0m\u001b[1;33m\u001b[0m\u001b[1;33m\u001b[0m\u001b[0m\n",
      "\u001b[1;31mValueError\u001b[0m: No objects to concatenate"
     ]
    }
   ],
   "source": [
    "import re\n",
    "\n",
    "path = r'/Users/Jennifer/Documents/GitHub/229project/PAprimary' # use your path\n",
    "all_files = glob.glob(path + \"/*.csv\")\n",
    "\n",
    "\n",
    "li = [] #only need this if appending to list instead of df\n",
    "#https://stackoverflow.com/questions/20906474/import-multiple-csv-files-into-pandas-and-concatenate-into-one-dataframe\n",
    "\n",
    "for filename in all_files:\n",
    "    #reads csv into a dataframe\n",
    "    df = pd.read_csv(filename, index_col=None,encoding='UTF-8', delimiter=',')\n",
    "    #print(filename)\n",
    "    filename = filename.split('/')\n",
    "    filename = filename[-1]\n",
    "    #print(filename)\n",
    "    #adds csv extention- may be unnecessary\n",
    "    #file_extension = '.csv'\n",
    "    #converts file name to a i string list\n",
    "    #filename = glob.glob(f\"*{file_extension}\")\n",
    "    #adds file name to column\n",
    "    df['filename'] = filename\n",
    "    #print(df['filename'])\n",
    "    #creates a list of parsed out strings inside parenthesis\n",
    "    parenth = re.findall('\\(([^)]+)', filename)\n",
    "    #creates a 2 string list of lat, long\n",
    "    lat_long = parenth[-1].split(\" \")\n",
    "    #extracts lat/long from list assignes them to column\n",
    "    #and coverts them to float\n",
    "    df['lat'] = lat_long[0] #astype(float)\n",
    "    df['lat'] = df['lat'].astype(float)\n",
    "    df['long'] = lat_long[-1] \n",
    "    df['long'] = df['long'].astype(float)\n",
    "    #replaces NaN with zeroes\n",
    "    df['PM2.5_ATM_ug/m3']= df['PM2.5_ATM_ug/m3'].fillna(0)\n",
    "    df['PM2.5_CF1_ug/m3'] = df['PM2.5_CF1_ug/m3'].fillna(0)\n",
    "    #filters for rows where Pm 2.5 values don't equal zero\n",
    "    df = df[(df['PM2.5_ATM_ug/m3'] != 0)]\n",
    "    #df = df[(df['PM2.5_CF1_ug/m3'] != 0)]\n",
    "    #takes mean pm2.5\n",
    "    df['PM2.5 ATM Mean'] = df['PM2.5_ATM_ug/m3'].mean()\n",
    "    df['PM2.5 CF1 Mean'] = df['PM2.5_CF1_ug/m3'].mean()\n",
    "    #df['PM2.5 ATM Mean'] = df[(df['PM2.5_ATM_ug/m3'] != 0)].mean()\n",
    "    #df['PM2.5 CF1 Mean'] = df[(df['PM2.5_CF1_ug/m3']!= 0)].mean()\n",
    "    \n",
    "    #PM25_ATM_Mean = df[(df['PM2.5_ATM_ug/m3'] != 0)].mean()\n",
    "    #PM25_CFI_Mean = df[(df['PM2.5_CF1_ug/m3']!= 0)].mean()\n",
    "    #appends to df\n",
    "    #df= df.append(df)\n",
    "    #alt way to append to list\n",
    "    \n",
    "    #I only need the values from row 0, columns 11-14 to concat into one csv\n",
    "    #drops unneeded columns\n",
    "    try:\n",
    "        df.drop(['PM1.0_CF1_ug/m3', 'PM2.5_CF1_ug/m3', 'PM10.0_CF1_ug/m3', 'UptimeMinutes', \n",
    "             'RSSI_dbm', 'Temperature_F', 'Humidity_%', 'PM2.5_ATM_ug/m3', 'Unnamed: 9'],\n",
    "            inplace=True, axis = 1) \n",
    "    except:\n",
    "        df.drop(['PM1.0_CF1_ug/m3', 'PM2.5_CF1_ug/m3', 'PM10.0_CF1_ug/m3', 'UptimeMinutes', \n",
    "             'RSSI_dbm', 'Temperature_F', 'Humidity_%', 'PM2.5_ATM_ug/m3'],\n",
    "            inplace=True, axis = 1) \n",
    "        continue\n",
    "    df = df.reset_index(drop=True)\n",
    "    #print(df)\n",
    "    try:\n",
    "        newdf = df.iloc[0]\n",
    "    except:\n",
    "        newdf = df.iloc[-1]\n",
    "        continue\n",
    "    #converting series to df and flipping on its end\n",
    "    newdf = pd.DataFrame(newdf).transpose()\n",
    "    #newdf['PM2.5 ATM Mean'] = PM25_ATM_Mean\n",
    "    #newdf['PM2.5 CF1 Mean'] = PM25_CFI_Mean\n",
    "    li.append(newdf)\n",
    "    #bigdf= bigdf.append(newdf)\n",
    "    #alt way to convert series to df\n",
    "    #newdf = newdf.to_frame()\n",
    "\n",
    "final_frame = pd.concat(li, axis=0, ignore_index=True) \n",
    "final_frame.head(-10)\n",
    "\n",
    "\n",
    "#newdf.head(70)\n",
    "#final_frame = pd.concat([newdf], axis=0, ignore_index=True) \n",
    "\n",
    "\n",
    "#some code for spllitting on parenthesis\n",
    "#s = 'Name(something)'\n",
    "#re.search('\\(([^)]+)', s).group(1)\n",
    "#'something'\n",
    "\n",
    "#https://stackoverflow.com/questions/45947887/python-looping-through-csv-files-and-their-columns\n",
    "#for i in numFiles:\n",
    "    #file = open(os.path.join(pathName, i), \"rU\")\n",
    "    #reader = csv.reader(file, delimiter=',')\n",
    "    #for row in reader:\n",
    "        #for column in row:\n",
    "            #print(column)\n",
    "            #if column==\"SPECIFIC VALUE\":\n",
    "                #do stuf                "
   ]
  },
  {
   "cell_type": "code",
   "execution_count": null,
   "id": "8fb77716",
   "metadata": {},
   "outputs": [],
   "source": [
    "final_frame.to_csv(r'/Users/jenniferbadger/Documents/GitHub/229project/PAprimary/final_frame.csv')"
   ]
  },
  {
   "cell_type": "markdown",
   "id": "adef94f6",
   "metadata": {},
   "source": [
    "## Interpolated Surface\n",
    "\n",
    "The Purple Air CSV, extracted above, gave us over 100 datapoints spread across the Los Angeles region. However, as we noted at the end of the last section, 39 of those sensors don't overlay an HOLC neighborhood. And only 1 sensor overlays a grade A neighborhood. We're not getting great bang for our data buck. So, we decided to create an interpolated surface that approximates the PM 2.5 levels throughout the study area using nearby sensors."
   ]
  },
  {
   "cell_type": "code",
   "execution_count": 3,
   "id": "838b3e16",
   "metadata": {},
   "outputs": [
    {
     "name": "stderr",
     "output_type": "stream",
     "text": [
      "<ipython-input-3-571a612eb405>:12: UserWarning: Boolean Series key will be reindexed to match DataFrame index.\n",
      "  purple_trim = purple_trim[purple_df['PM2.5 CF1 Mean']> 5]\n"
     ]
    },
    {
     "data": {
      "text/html": [
       "<div>\n",
       "<style scoped>\n",
       "    .dataframe tbody tr th:only-of-type {\n",
       "        vertical-align: middle;\n",
       "    }\n",
       "\n",
       "    .dataframe tbody tr th {\n",
       "        vertical-align: top;\n",
       "    }\n",
       "\n",
       "    .dataframe thead th {\n",
       "        text-align: right;\n",
       "    }\n",
       "</style>\n",
       "<table border=\"1\" class=\"dataframe\">\n",
       "  <thead>\n",
       "    <tr style=\"text-align: right;\">\n",
       "      <th></th>\n",
       "      <th>Unnamed: 0</th>\n",
       "      <th>created_at</th>\n",
       "      <th>filename</th>\n",
       "      <th>lat</th>\n",
       "      <th>long</th>\n",
       "      <th>PM2.5 ATM Mean</th>\n",
       "      <th>PM2.5 CF1 Mean</th>\n",
       "    </tr>\n",
       "  </thead>\n",
       "  <tbody>\n",
       "    <tr>\n",
       "      <th>0</th>\n",
       "      <td>0</td>\n",
       "      <td>2019-03-16 00:00:00 UTC</td>\n",
       "      <td>CCA 61st and King (outside) (33.98329 -118.183...</td>\n",
       "      <td>33.983290</td>\n",
       "      <td>-118.183926</td>\n",
       "      <td>16.995496</td>\n",
       "      <td>18.172958</td>\n",
       "    </tr>\n",
       "    <tr>\n",
       "      <th>1</th>\n",
       "      <td>1</td>\n",
       "      <td>2019-03-16 00:00:00 UTC</td>\n",
       "      <td>CCA 52nd Dr and Heliotrope (outside) (33.98995...</td>\n",
       "      <td>33.989950</td>\n",
       "      <td>-118.178093</td>\n",
       "      <td>16.328882</td>\n",
       "      <td>17.597437</td>\n",
       "    </tr>\n",
       "    <tr>\n",
       "      <th>2</th>\n",
       "      <td>2</td>\n",
       "      <td>2019-03-26 00:00:00 UTC</td>\n",
       "      <td>Adams Square (inside) (inside) (34.133594 -118...</td>\n",
       "      <td>34.133594</td>\n",
       "      <td>-118.241213</td>\n",
       "      <td>12.812237</td>\n",
       "      <td>14.105855</td>\n",
       "    </tr>\n",
       "    <tr>\n",
       "      <th>3</th>\n",
       "      <td>3</td>\n",
       "      <td>2019-03-27 00:00:00 UTC</td>\n",
       "      <td>CSUN Live Oak (outside) (34.238179 -118.528333...</td>\n",
       "      <td>34.238179</td>\n",
       "      <td>-118.528333</td>\n",
       "      <td>13.484826</td>\n",
       "      <td>13.641279</td>\n",
       "    </tr>\n",
       "    <tr>\n",
       "      <th>4</th>\n",
       "      <td>4</td>\n",
       "      <td>2019-01-09 00:00:00 UTC</td>\n",
       "      <td>6th St (inside) (34.020076 -118.49534) Primary...</td>\n",
       "      <td>34.020076</td>\n",
       "      <td>-118.495340</td>\n",
       "      <td>6.793395</td>\n",
       "      <td>7.069488</td>\n",
       "    </tr>\n",
       "  </tbody>\n",
       "</table>\n",
       "</div>"
      ],
      "text/plain": [
       "   Unnamed: 0               created_at  \\\n",
       "0           0  2019-03-16 00:00:00 UTC   \n",
       "1           1  2019-03-16 00:00:00 UTC   \n",
       "2           2  2019-03-26 00:00:00 UTC   \n",
       "3           3  2019-03-27 00:00:00 UTC   \n",
       "4           4  2019-01-09 00:00:00 UTC   \n",
       "\n",
       "                                            filename        lat        long  \\\n",
       "0  CCA 61st and King (outside) (33.98329 -118.183...  33.983290 -118.183926   \n",
       "1  CCA 52nd Dr and Heliotrope (outside) (33.98995...  33.989950 -118.178093   \n",
       "2  Adams Square (inside) (inside) (34.133594 -118...  34.133594 -118.241213   \n",
       "3  CSUN Live Oak (outside) (34.238179 -118.528333...  34.238179 -118.528333   \n",
       "4  6th St (inside) (34.020076 -118.49534) Primary...  34.020076 -118.495340   \n",
       "\n",
       "   PM2.5 ATM Mean  PM2.5 CF1 Mean  \n",
       "0       16.995496       18.172958  \n",
       "1       16.328882       17.597437  \n",
       "2       12.812237       14.105855  \n",
       "3       13.484826       13.641279  \n",
       "4        6.793395        7.069488  "
      ]
     },
     "execution_count": 3,
     "metadata": {},
     "output_type": "execute_result"
    }
   ],
   "source": [
    "#purple_df = pd.read_csv('/Users/jenniferbadger/Documents/GitHub/229project/final_frame.csv', index_col=None,encoding='UTF-8', delimiter=',')\n",
    "purple_df = pd.read_csv('/Users/katie/Documents/GitHub/229project/final_frame.csv', index_col=None,encoding='UTF-8', delimiter=',')\n",
    "\n",
    "#purple_df.drop(['Unnamed: 0'])\n",
    "purple_df['PM2.5 CF1 Mean'].mean() #94.5\n",
    "purple_df['PM2.5 CF1 Mean'].max() #4475! \n",
    "purple_df['PM2.5 CF1 Mean'].min() #0.064\n",
    "purple_df['PM2.5 CF1 Mean'].median() #15.9\n",
    "\n",
    "#Trimming data for outliers or potentially uncalibrated sensors\n",
    "purple_trim = purple_df[purple_df['PM2.5 CF1 Mean']< 30]\n",
    "purple_trim = purple_trim[purple_df['PM2.5 CF1 Mean']> 5]\n",
    "purple_trim.head()\n",
    "#purple_df.head()"
   ]
  },
  {
   "cell_type": "code",
   "execution_count": 4,
   "id": "9ddac014",
   "metadata": {},
   "outputs": [],
   "source": [
    "#CONTOUR SURFACE: FIRST ITERATION \n",
    "\n",
    "#https://matplotlib.org/stable/gallery/images_contours_and_fields/irregulardatagrid.html\n",
    "\n",
    "xpts = purple_df['long']\n",
    "ypts = purple_df['lat']\n",
    "zpts = purple_df['PM2.5 CF1 Mean']\n",
    "\n",
    "min(xpts) #-118.642964\n",
    "max(xpts) #-117.90991\n",
    "\n",
    "min(ypts) #33.907907\n",
    "max(ypts) #34.240106\n",
    "\n",
    "#linspace returns evenly spaced numbers over a specified interval\n",
    "#https://numpy.org/devdocs/reference/generated/numpy.linspace.html\n",
    "xi = np.linspace(start = -119.0, stop = -117.5, num = 100)\n",
    "yi = np.linspace(33.5, 34.5, 100)\n",
    "\n",
    "\n",
    "#xi2 = np.linspace(purple_df['long'].min(), purple_df['long'].max())\n",
    "#yi2 = np.linspace(purple_df['lat'].min(), purple_df['lat'])\n",
    "\n",
    "X, Y = np.meshgrid(xi,yi)\n",
    "\n",
    "#interpolation\n",
    "#griddata interpolates a surface at the points specified by (xi,yi) to produce zi\n",
    "#scipy.interpolate.griddata(points, values, xi, method='linear', fill_value=nan, rescale=False)\n",
    "zi = griddata((xpts, ypts), zpts, (X,Y), method='cubic')"
   ]
  },
  {
   "cell_type": "code",
   "execution_count": 5,
   "id": "0dd2bcc7",
   "metadata": {},
   "outputs": [],
   "source": [
    "#Defining x and y pts in terms of projection 4326\n",
    "purple_trim_gdf = gpd.GeoDataFrame(\n",
    "    purple_trim, geometry = gpd.points_from_xy(purple_trim.long, purple_trim.lat, crs='EPSG:4326'))"
   ]
  },
  {
   "cell_type": "code",
   "execution_count": 6,
   "id": "ba2c66d8",
   "metadata": {},
   "outputs": [
    {
     "ename": "KeyError",
     "evalue": "\"['latproj'] not found in axis\"",
     "output_type": "error",
     "traceback": [
      "\u001b[1;31m---------------------------------------------------------------------------\u001b[0m",
      "\u001b[1;31mKeyError\u001b[0m                                  Traceback (most recent call last)",
      "\u001b[1;32m<ipython-input-6-b4051b16ab80>\u001b[0m in \u001b[0;36m<module>\u001b[1;34m\u001b[0m\n\u001b[0;32m      8\u001b[0m \u001b[1;33m\u001b[0m\u001b[0m\n\u001b[0;32m      9\u001b[0m \u001b[1;31m#dropping column\u001b[0m\u001b[1;33m\u001b[0m\u001b[1;33m\u001b[0m\u001b[1;33m\u001b[0m\u001b[0m\n\u001b[1;32m---> 10\u001b[1;33m \u001b[0mpurple_trim_proj\u001b[0m \u001b[1;33m=\u001b[0m \u001b[0mpurple_trim_proj\u001b[0m\u001b[1;33m.\u001b[0m\u001b[0mdrop\u001b[0m\u001b[1;33m(\u001b[0m\u001b[1;33m[\u001b[0m\u001b[1;34m'latproj'\u001b[0m\u001b[1;33m]\u001b[0m\u001b[1;33m,\u001b[0m \u001b[0maxis\u001b[0m \u001b[1;33m=\u001b[0m \u001b[1;36m1\u001b[0m\u001b[1;33m)\u001b[0m\u001b[1;33m\u001b[0m\u001b[1;33m\u001b[0m\u001b[0m\n\u001b[0m\u001b[0;32m     11\u001b[0m \u001b[1;33m\u001b[0m\u001b[0m\n\u001b[0;32m     12\u001b[0m \u001b[0mpurple_trim_proj\u001b[0m\u001b[1;33m.\u001b[0m\u001b[0mhead\u001b[0m\u001b[1;33m(\u001b[0m\u001b[1;33m)\u001b[0m\u001b[1;33m\u001b[0m\u001b[1;33m\u001b[0m\u001b[0m\n",
      "\u001b[1;32m~\\anaconda3\\envs\\UP229\\lib\\site-packages\\pandas\\core\\frame.py\u001b[0m in \u001b[0;36mdrop\u001b[1;34m(self, labels, axis, index, columns, level, inplace, errors)\u001b[0m\n\u001b[0;32m   4306\u001b[0m                 \u001b[0mweight\u001b[0m  \u001b[1;36m1.0\u001b[0m     \u001b[1;36m0.8\u001b[0m\u001b[1;33m\u001b[0m\u001b[1;33m\u001b[0m\u001b[0m\n\u001b[0;32m   4307\u001b[0m         \"\"\"\n\u001b[1;32m-> 4308\u001b[1;33m         return super().drop(\n\u001b[0m\u001b[0;32m   4309\u001b[0m             \u001b[0mlabels\u001b[0m\u001b[1;33m=\u001b[0m\u001b[0mlabels\u001b[0m\u001b[1;33m,\u001b[0m\u001b[1;33m\u001b[0m\u001b[1;33m\u001b[0m\u001b[0m\n\u001b[0;32m   4310\u001b[0m             \u001b[0maxis\u001b[0m\u001b[1;33m=\u001b[0m\u001b[0maxis\u001b[0m\u001b[1;33m,\u001b[0m\u001b[1;33m\u001b[0m\u001b[1;33m\u001b[0m\u001b[0m\n",
      "\u001b[1;32m~\\anaconda3\\envs\\UP229\\lib\\site-packages\\pandas\\core\\generic.py\u001b[0m in \u001b[0;36mdrop\u001b[1;34m(self, labels, axis, index, columns, level, inplace, errors)\u001b[0m\n\u001b[0;32m   4151\u001b[0m         \u001b[1;32mfor\u001b[0m \u001b[0maxis\u001b[0m\u001b[1;33m,\u001b[0m \u001b[0mlabels\u001b[0m \u001b[1;32min\u001b[0m \u001b[0maxes\u001b[0m\u001b[1;33m.\u001b[0m\u001b[0mitems\u001b[0m\u001b[1;33m(\u001b[0m\u001b[1;33m)\u001b[0m\u001b[1;33m:\u001b[0m\u001b[1;33m\u001b[0m\u001b[1;33m\u001b[0m\u001b[0m\n\u001b[0;32m   4152\u001b[0m             \u001b[1;32mif\u001b[0m \u001b[0mlabels\u001b[0m \u001b[1;32mis\u001b[0m \u001b[1;32mnot\u001b[0m \u001b[1;32mNone\u001b[0m\u001b[1;33m:\u001b[0m\u001b[1;33m\u001b[0m\u001b[1;33m\u001b[0m\u001b[0m\n\u001b[1;32m-> 4153\u001b[1;33m                 \u001b[0mobj\u001b[0m \u001b[1;33m=\u001b[0m \u001b[0mobj\u001b[0m\u001b[1;33m.\u001b[0m\u001b[0m_drop_axis\u001b[0m\u001b[1;33m(\u001b[0m\u001b[0mlabels\u001b[0m\u001b[1;33m,\u001b[0m \u001b[0maxis\u001b[0m\u001b[1;33m,\u001b[0m \u001b[0mlevel\u001b[0m\u001b[1;33m=\u001b[0m\u001b[0mlevel\u001b[0m\u001b[1;33m,\u001b[0m \u001b[0merrors\u001b[0m\u001b[1;33m=\u001b[0m\u001b[0merrors\u001b[0m\u001b[1;33m)\u001b[0m\u001b[1;33m\u001b[0m\u001b[1;33m\u001b[0m\u001b[0m\n\u001b[0m\u001b[0;32m   4154\u001b[0m \u001b[1;33m\u001b[0m\u001b[0m\n\u001b[0;32m   4155\u001b[0m         \u001b[1;32mif\u001b[0m \u001b[0minplace\u001b[0m\u001b[1;33m:\u001b[0m\u001b[1;33m\u001b[0m\u001b[1;33m\u001b[0m\u001b[0m\n",
      "\u001b[1;32m~\\anaconda3\\envs\\UP229\\lib\\site-packages\\pandas\\core\\generic.py\u001b[0m in \u001b[0;36m_drop_axis\u001b[1;34m(self, labels, axis, level, errors)\u001b[0m\n\u001b[0;32m   4186\u001b[0m                 \u001b[0mnew_axis\u001b[0m \u001b[1;33m=\u001b[0m \u001b[0maxis\u001b[0m\u001b[1;33m.\u001b[0m\u001b[0mdrop\u001b[0m\u001b[1;33m(\u001b[0m\u001b[0mlabels\u001b[0m\u001b[1;33m,\u001b[0m \u001b[0mlevel\u001b[0m\u001b[1;33m=\u001b[0m\u001b[0mlevel\u001b[0m\u001b[1;33m,\u001b[0m \u001b[0merrors\u001b[0m\u001b[1;33m=\u001b[0m\u001b[0merrors\u001b[0m\u001b[1;33m)\u001b[0m\u001b[1;33m\u001b[0m\u001b[1;33m\u001b[0m\u001b[0m\n\u001b[0;32m   4187\u001b[0m             \u001b[1;32melse\u001b[0m\u001b[1;33m:\u001b[0m\u001b[1;33m\u001b[0m\u001b[1;33m\u001b[0m\u001b[0m\n\u001b[1;32m-> 4188\u001b[1;33m                 \u001b[0mnew_axis\u001b[0m \u001b[1;33m=\u001b[0m \u001b[0maxis\u001b[0m\u001b[1;33m.\u001b[0m\u001b[0mdrop\u001b[0m\u001b[1;33m(\u001b[0m\u001b[0mlabels\u001b[0m\u001b[1;33m,\u001b[0m \u001b[0merrors\u001b[0m\u001b[1;33m=\u001b[0m\u001b[0merrors\u001b[0m\u001b[1;33m)\u001b[0m\u001b[1;33m\u001b[0m\u001b[1;33m\u001b[0m\u001b[0m\n\u001b[0m\u001b[0;32m   4189\u001b[0m             \u001b[0mresult\u001b[0m \u001b[1;33m=\u001b[0m \u001b[0mself\u001b[0m\u001b[1;33m.\u001b[0m\u001b[0mreindex\u001b[0m\u001b[1;33m(\u001b[0m\u001b[1;33m**\u001b[0m\u001b[1;33m{\u001b[0m\u001b[0maxis_name\u001b[0m\u001b[1;33m:\u001b[0m \u001b[0mnew_axis\u001b[0m\u001b[1;33m}\u001b[0m\u001b[1;33m)\u001b[0m\u001b[1;33m\u001b[0m\u001b[1;33m\u001b[0m\u001b[0m\n\u001b[0;32m   4190\u001b[0m \u001b[1;33m\u001b[0m\u001b[0m\n",
      "\u001b[1;32m~\\anaconda3\\envs\\UP229\\lib\\site-packages\\pandas\\core\\indexes\\base.py\u001b[0m in \u001b[0;36mdrop\u001b[1;34m(self, labels, errors)\u001b[0m\n\u001b[0;32m   5589\u001b[0m         \u001b[1;32mif\u001b[0m \u001b[0mmask\u001b[0m\u001b[1;33m.\u001b[0m\u001b[0many\u001b[0m\u001b[1;33m(\u001b[0m\u001b[1;33m)\u001b[0m\u001b[1;33m:\u001b[0m\u001b[1;33m\u001b[0m\u001b[1;33m\u001b[0m\u001b[0m\n\u001b[0;32m   5590\u001b[0m             \u001b[1;32mif\u001b[0m \u001b[0merrors\u001b[0m \u001b[1;33m!=\u001b[0m \u001b[1;34m\"ignore\"\u001b[0m\u001b[1;33m:\u001b[0m\u001b[1;33m\u001b[0m\u001b[1;33m\u001b[0m\u001b[0m\n\u001b[1;32m-> 5591\u001b[1;33m                 \u001b[1;32mraise\u001b[0m \u001b[0mKeyError\u001b[0m\u001b[1;33m(\u001b[0m\u001b[1;34mf\"{labels[mask]} not found in axis\"\u001b[0m\u001b[1;33m)\u001b[0m\u001b[1;33m\u001b[0m\u001b[1;33m\u001b[0m\u001b[0m\n\u001b[0m\u001b[0;32m   5592\u001b[0m             \u001b[0mindexer\u001b[0m \u001b[1;33m=\u001b[0m \u001b[0mindexer\u001b[0m\u001b[1;33m[\u001b[0m\u001b[1;33m~\u001b[0m\u001b[0mmask\u001b[0m\u001b[1;33m]\u001b[0m\u001b[1;33m\u001b[0m\u001b[1;33m\u001b[0m\u001b[0m\n\u001b[0;32m   5593\u001b[0m         \u001b[1;32mreturn\u001b[0m \u001b[0mself\u001b[0m\u001b[1;33m.\u001b[0m\u001b[0mdelete\u001b[0m\u001b[1;33m(\u001b[0m\u001b[0mindexer\u001b[0m\u001b[1;33m)\u001b[0m\u001b[1;33m\u001b[0m\u001b[1;33m\u001b[0m\u001b[0m\n",
      "\u001b[1;31mKeyError\u001b[0m: \"['latproj'] not found in axis\""
     ]
    }
   ],
   "source": [
    "#converting gdf with projected coordinates back into df\n",
    "purple_trim_proj= purple_trim_gdf\n",
    "\n",
    "#converting geometry column into individual lat/long\n",
    "purple_trim_proj['lat proj'] = purple_trim_gdf.geometry.apply(lambda x: x.y)\n",
    "\n",
    "purple_trim_proj['long proj'] = purple_trim_gdf.geometry.apply(lambda x: x.x)\n",
    "\n",
    "#dropping column\n",
    "purple_trim_proj = purple_trim_proj.drop(['latproj'], axis = 1)\n",
    "\n",
    "purple_trim_proj.head()"
   ]
  },
  {
   "cell_type": "code",
   "execution_count": 7,
   "id": "85f3ffc9",
   "metadata": {},
   "outputs": [],
   "source": [
    "#CONTOUR SURFACE: FINAL ITERATION \n",
    "\n",
    "xpts = purple_trim_proj['long proj']\n",
    "ypts = purple_trim_proj['lat proj']\n",
    "zpts = purple_trim_proj['PM2.5 CF1 Mean']\n",
    "\n",
    "min(xpts) #-118.642964\n",
    "max(xpts) #-117.90991\n",
    "\n",
    "min(ypts) #33.907907\n",
    "max(ypts) #34.240106\n",
    "\n",
    "#linspace returns evenly spaced numbers over a specified interval\n",
    "#https://numpy.org/devdocs/reference/generated/numpy.linspace.html\n",
    "xi = np.linspace(start = -119.0, stop = -117.5, num = 100)\n",
    "yi = np.linspace(33.5, 34.5, 100)\n",
    "\n",
    "# meshgrid creates a rectangular grid out of an array of x values and an array of y values.\n",
    "X, Y = np.meshgrid(xi,yi)\n",
    "\n",
    "#interpolation\n",
    "#griddata interpolates a surface at the points specified by (xi,yi) to produce zi\n",
    "#scipy.interpolate.griddata(points, values, xi, method='linear', fill_value=nan, rescale=False)\n",
    "zi = griddata((xpts, ypts), zpts, (X,Y), method='linear')"
   ]
  },
  {
   "cell_type": "code",
   "execution_count": 8,
   "id": "b77a265b",
   "metadata": {},
   "outputs": [],
   "source": [
    "np.count_nonzero(np.isnan(zi)) #8872\n",
    "np.isnan(zi).sum() #returns 8872\n",
    "\n",
    "np.count_nonzero(~np.isnan(zi)) #1128 values\n",
    "\n",
    "#zi total = 10000 values\n",
    "#approximately 10% of the nodes have predicted pm 2.5 values\n",
    "\n",
    "#has to do with points being outside of convex hull\n",
    "#https://stackoverflow.com/questions/37643934/nan-values-are-from-griddata\n",
    "\n",
    "zi_df = pd.DataFrame(zi)"
   ]
  },
  {
   "cell_type": "code",
   "execution_count": 9,
   "id": "3e78c634",
   "metadata": {},
   "outputs": [],
   "source": [
    "# To join our interpolated dataset to the HOLC neighborhood dataset, we first need to change its format.\n",
    "# We need a geometry column for each point and a PM 2.5 column. Our first step is to melt the zi_df dataset.\n",
    "\n",
    "pd.set_option('display.max_rows', 10000)\n",
    "aqdf = zi_df.melt().reset_index()\n",
    "aqdf.rename(columns={'index':'y','variable':'x','value':'Avg PM 2.5'},inplace=True)"
   ]
  },
  {
   "cell_type": "code",
   "execution_count": 10,
   "id": "75cd7768",
   "metadata": {},
   "outputs": [],
   "source": [
    "# Then we add the latitude column manually.\n",
    "\n",
    "yseries = pd.Series(range(0,100))\n",
    "aqdf.y = pd.concat([yseries]*100, ignore_index=True)"
   ]
  },
  {
   "cell_type": "code",
   "execution_count": 11,
   "id": "a96920da",
   "metadata": {},
   "outputs": [],
   "source": [
    "# Lastly, we manually calculate the latitudes and longitudes based on the values currently in our columns.\n",
    "\n",
    "aqdf['lat'] = aqdf['x']*0.01515152-119\n",
    "aqdf['long'] = aqdf['y']*0.01010101+33.5"
   ]
  },
  {
   "cell_type": "code",
   "execution_count": 12,
   "id": "de141dea",
   "metadata": {},
   "outputs": [],
   "source": [
    "# We're now ready to use points_from_xy to convert our lat and long columns into a geometry column.\n",
    "\n",
    "aqgdf = gpd.GeoDataFrame(aqdf, geometry=gpd.points_from_xy(aqdf.lat,aqdf.long, crs='EPSG:4326'))"
   ]
  },
  {
   "cell_type": "code",
   "execution_count": 13,
   "id": "12f10279",
   "metadata": {},
   "outputs": [],
   "source": [
    "# We drop any rows without PM 2.5 values and drop the extraneous columns to make the data more tidy.\n",
    "\n",
    "aqgdf = aqgdf.dropna(subset=['Avg PM 2.5'])\n",
    "aqgdf = aqgdf.drop(['y', 'x', 'lat','long'], axis = 1)"
   ]
  },
  {
   "cell_type": "markdown",
   "id": "38067ef7",
   "metadata": {},
   "source": [
    "## HOLC and Interpolated Surface Join Analysis\n",
    "\n",
    "Now that we have created our interpolated surface, we can redo our spatial join and recreate our boxplot graph."
   ]
  },
  {
   "cell_type": "code",
   "execution_count": 14,
   "id": "d68eab6e",
   "metadata": {},
   "outputs": [],
   "source": [
    "# First we bring in the HOLC data (fname) and the air quality dataset (fname2). We downloaded the former from Mapping\n",
    "# Inequality and created the latter in the code above.\n",
    "\n",
    "fname = \"C:/Users/Katie/Documents/GitHub/229project/CALosAngeles1939.geojson\"\n",
    "fname2 = \"C:/Users/Katie/Documents/GitHub/229project/final_frame.csv\""
   ]
  },
  {
   "cell_type": "code",
   "execution_count": 15,
   "id": "2a567939",
   "metadata": {},
   "outputs": [],
   "source": [
    "# We created a dataframe for each file.\n",
    "\n",
    "holc = gpd.read_file(fname)\n",
    "sensors = gpd.read_file(fname2)"
   ]
  },
  {
   "cell_type": "code",
   "execution_count": 16,
   "id": "55d5b07d",
   "metadata": {},
   "outputs": [],
   "source": [
    "# Here we perform a left join, this time keeping all of our neighborhoods and creating duplicate rows where more than one \n",
    "# point from the interpolated surface lies in a neighborhood.\n",
    "\n",
    "joindf = gpd.sjoin(holc.to_crs('EPSG:4326'), aqgdf.to_crs('EPSG:4326'), how=\"left\", op='intersects')\n",
    "joindf.holc_grade = joindf.holc_grade.fillna(value=\"NA\")"
   ]
  },
  {
   "cell_type": "code",
   "execution_count": 17,
   "id": "0e834220",
   "metadata": {},
   "outputs": [],
   "source": [
    "# To create our boxplot, we want to analyze each neighborhood one time. So, we use a groupby to take the average sensor\n",
    "# score for each neighborhood.\n",
    "\n",
    "joindf = joindf.groupby(['holc_id']).mean('Avg PM 2.5').reset_index()\n",
    "joindf['holc_grade'] = joindf['holc_id'].str[0]"
   ]
  },
  {
   "cell_type": "code",
   "execution_count": 18,
   "id": "f204329c",
   "metadata": {},
   "outputs": [
    {
     "data": {
      "text/plain": [
       "<AxesSubplot:title={'center':'Avg PM 2.5'}, xlabel='holc_grade'>"
      ]
     },
     "execution_count": 18,
     "metadata": {},
     "output_type": "execute_result"
    },
    {
     "data": {
      "image/png": "[encoded data removed]",
      "text/plain": [
       "<Figure size 432x288 with 1 Axes>"
      ]
     },
     "metadata": {
      "needs_background": "light"
     },
     "output_type": "display_data"
    }
   ],
   "source": [
    "# And now we are ready to create the boxplot! We see that \"A\" neighborhoods have lower PM 2.5 scores than before. B, C, and \n",
    "# D neighborhoods, like before, have similar PM 2.5 scores.\n",
    "\n",
    "joindf.boxplot('Avg PM 2.5', by = 'holc_grade', showfliers = False)"
   ]
  },
  {
   "cell_type": "code",
   "execution_count": 19,
   "id": "ec2efcbe",
   "metadata": {},
   "outputs": [
    {
     "data": {
      "text/html": [
       "<div>\n",
       "<style scoped>\n",
       "    .dataframe tbody tr th:only-of-type {\n",
       "        vertical-align: middle;\n",
       "    }\n",
       "\n",
       "    .dataframe tbody tr th {\n",
       "        vertical-align: top;\n",
       "    }\n",
       "\n",
       "    .dataframe thead th {\n",
       "        text-align: right;\n",
       "    }\n",
       "</style>\n",
       "<table border=\"1\" class=\"dataframe\">\n",
       "  <thead>\n",
       "    <tr style=\"text-align: right;\">\n",
       "      <th></th>\n",
       "      <th>holc_id</th>\n",
       "      <th>index_right</th>\n",
       "      <th>Avg PM 2.5</th>\n",
       "    </tr>\n",
       "    <tr>\n",
       "      <th>holc_grade</th>\n",
       "      <th></th>\n",
       "      <th></th>\n",
       "      <th></th>\n",
       "    </tr>\n",
       "  </thead>\n",
       "  <tbody>\n",
       "    <tr>\n",
       "      <th>A</th>\n",
       "      <td>57</td>\n",
       "      <td>33</td>\n",
       "      <td>33</td>\n",
       "    </tr>\n",
       "    <tr>\n",
       "      <th>B</th>\n",
       "      <td>121</td>\n",
       "      <td>63</td>\n",
       "      <td>63</td>\n",
       "    </tr>\n",
       "    <tr>\n",
       "      <th>C</th>\n",
       "      <td>167</td>\n",
       "      <td>98</td>\n",
       "      <td>98</td>\n",
       "    </tr>\n",
       "    <tr>\n",
       "      <th>D</th>\n",
       "      <td>71</td>\n",
       "      <td>28</td>\n",
       "      <td>28</td>\n",
       "    </tr>\n",
       "  </tbody>\n",
       "</table>\n",
       "</div>"
      ],
      "text/plain": [
       "            holc_id  index_right  Avg PM 2.5\n",
       "holc_grade                                  \n",
       "A                57           33          33\n",
       "B               121           63          63\n",
       "C               167           98          98\n",
       "D                71           28          28"
      ]
     },
     "execution_count": 19,
     "metadata": {},
     "output_type": "execute_result"
    }
   ],
   "source": [
    "# This is a much more representative sample. We have at least 57 interpolated surface points for each neighborhood grade.\n",
    "\n",
    "joindf.groupby('holc_grade').count()"
   ]
  }
 ],
 "metadata": {
  "kernelspec": {
   "display_name": "Python 3",
   "language": "python",
   "name": "python3"
  },
  "language_info": {
   "codemirror_mode": {
    "name": "ipython",
    "version": 3
   },
   "file_extension": ".py",
   "mimetype": "text/x-python",
   "name": "python",
   "nbconvert_exporter": "python",
   "pygments_lexer": "ipython3",
   "version": "3.8.10"
  }
 },
 "nbformat": 4,
 "nbformat_minor": 5
}
